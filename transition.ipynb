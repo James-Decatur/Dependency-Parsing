{
 "cells": [
  {
   "cell_type": "code",
   "execution_count": 8,
   "metadata": {},
   "outputs": [
    {
     "name": "stdout",
     "output_type": "stream",
     "text": [
      "the cat is on the mat today\n",
      "root(root_0, is_3)\n",
      "  nsubj(is_3, cat_2)\n",
      "    det(cat_2, the_1)\n",
      "  nmod(is_3, mat_6)\n",
      "    case(mat_6, on_4)\n",
      "    det(mat_6, the_5)\n",
      "  nmod(is_3, today_7)\n"
     ]
    }
   ],
   "source": [
    "SH = 0; RE = 1; RA = 2; LA = 3;\n",
    "labels = [\"det\", \"nsubj\", \"case\", \"nmod\", \"root\"]\n",
    "\n",
    "\n",
    "def attach_orphans(arcs, n):\n",
    "    attached = []\n",
    "    for (h, d, l) in arcs:\n",
    "        attached.append(d)\n",
    "    for i in range(1, n):\n",
    "        if not i in attached:\n",
    "            arcs.append((0, i, \"root\"))\n",
    "            \n",
    "\n",
    "def print_tree(root, arcs, words, indent):\n",
    "    if root == 0:\n",
    "        print(\" \".join(words[1:]))\n",
    "    children = [(root, i, l) for i in range(len(words)) for l in labels if (root, i, l) in arcs]\n",
    "    for (h, d, l) in sorted(children):\n",
    "        print(indent + l + \"(\" + words[h] + \"_\" + str(h) + \", \" + words[d] + \"_\" + str(d) + \")\")\n",
    "        print_tree(d, arcs, words, indent + \"  \")\n",
    "\n",
    "        \n",
    "def transition(trans, stack, buffer, arcs):\n",
    "    if trans[0] == SH:\n",
    "        stack.insert(0, buffer.pop(0))\n",
    "    elif trans[0] == LA:\n",
    "        arcs.append(( buffer[0], stack.pop(0), trans[1] )) \n",
    "    elif trans[0] == RA:\n",
    "        arcs.append(( stack[0], buffer[0], trans[1] ))\n",
    "        stack.insert(0, buffer.pop(0))\n",
    "    elif trans[0] == RE:\n",
    "         stack.pop(0)           \n",
    "    return stack, buffer, arcs\n",
    "\n",
    "\n",
    "def parse():\n",
    "    words = \"root the cat is on the mat today\".split()\n",
    "    stack = [0]\n",
    "    buffer = [x for x in range(1, len(words))]\n",
    "    arcs = []\n",
    "    for trans in [(SH, \"_\"), (LA, \"det\"), (SH, \"_\"), (LA, \"nsubj\"), (SH, \"_\"), (SH, \"_\"), (SH, \"_\"), (LA, \"det\"), (LA, \"case\"), (RA, \"nmod\"), (RE, \"_\"), (RA, \"nmod\")]:\n",
    "        stack, buffer, arcs = transition(trans, stack, buffer, arcs)\n",
    "    attach_orphans(arcs, len(words))\n",
    "    print_tree(0, arcs, words, \"\")\n",
    "\n",
    "    \n",
    "if __name__ == \"__main__\":\n",
    "    parse()"
   ]
  }
 ],
 "metadata": {
  "kernelspec": {
   "display_name": "Python 3",
   "language": "python",
   "name": "python3"
  },
  "language_info": {
   "codemirror_mode": {
    "name": "ipython",
    "version": 3
   },
   "file_extension": ".py",
   "mimetype": "text/x-python",
   "name": "python",
   "nbconvert_exporter": "python",
   "pygments_lexer": "ipython3",
   "version": "3.8.5"
  }
 },
 "nbformat": 4,
 "nbformat_minor": 4
}
